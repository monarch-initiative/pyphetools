{
 "cells": [
  {
   "cell_type": "markdown",
   "id": "a39f3c65",
   "metadata": {},
   "source": [
    "<h1>Example 2: Creation of phenopackets from supplemental tables (individuals in columns)</h1>\n",
    "<p>The Python Phenopackets Tools (pyphetools) library offers several functions for the creation, validation, and display of <a href=\"https://pubmed.ncbi.nlm.nih.gov/35705716/\" target=\"__blank\">GA4GH phenopackets</a>.</p>\n",
    "<p></p>In this notebook, we show how to create phenopackets from table 1 of  <a href=\"https://pubmed.ncbi.nlm.nih.gov/30945334/\" target=\"__blank\">Iwasawa S., et al. (2019) De Recurrent de novo MAPK8IP3 variants cause neurological phenotypes</a>.\n",
    "<p>See <a href=\"https://github.com/monarch-initiative/pyphetools/blob/main/notebooks/Example_1_TRPM3_PMID_31278393.ipynb\">Example 1</a> for additional explanations.</p>\n",
    "<p>The main difference between the two examples is that the Supplemental tables show data about individuals in rows (See Example 1) or in columns (this example).</p>"
   ]
  },
  {
   "cell_type": "code",
   "execution_count": 1,
   "id": "f0602c0e",
   "metadata": {},
   "outputs": [
    {
     "name": "stdout",
     "output_type": "stream",
     "text": [
      "Using pyphetools version 0.9.77\n"
     ]
    },
    {
     "name": "stderr",
     "output_type": "stream",
     "text": [
      "/Users/robin/GIT/pyphetools/ppt_venv/lib/python3.9/site-packages/urllib3/__init__.py:35: NotOpenSSLWarning: urllib3 v2 only supports OpenSSL 1.1.1+, currently the 'ssl' module is compiled with 'LibreSSL 2.8.3'. See: https://github.com/urllib3/urllib3/issues/3020\n",
      "  warnings.warn(\n"
     ]
    }
   ],
   "source": [
    "import phenopackets as php\n",
    "from google.protobuf.json_format import MessageToDict, MessageToJson\n",
    "from google.protobuf.json_format import Parse, ParseDict\n",
    "from IPython.display import display, HTML\n",
    "import pandas as pd\n",
    "pd.set_option('display.max_colwidth', None) # show entire column contents, important!\n",
    "from collections import defaultdict\n",
    "import pyphetools\n",
    "from pyphetools.creation import *\n",
    "from pyphetools.validation import CohortValidator\n",
    "from pyphetools.visualization import *\n",
    "\n",
    "print(f\"Using pyphetools version {pyphetools.__version__}\")"
   ]
  },
  {
   "cell_type": "markdown",
   "id": "8606e7eb",
   "metadata": {},
   "source": [
    "<h2>Importing HPO data</h2>\n",
    "<p>pyphetools uses the Human Phenotype Ontology (HPO) to encode phenotypic features. The recommended way of doing this is to ingest the hp.json file using HpoParser, which in turn creates an HpoConceptRecognizer object. </p>\n",
    "<p>The HpoParser can accept a hpo_json_file argument if you want to use a specific file. If the argument is not passed, it will download the latext hp.json file from the HPO GitHub site and store it in a new subdirectory called hpo_data. It will not download the file if the file is already downloaded.</p>"
   ]
  },
  {
   "cell_type": "code",
   "execution_count": 2,
   "id": "5a7789fc",
   "metadata": {},
   "outputs": [],
   "source": [
    "parser = HpoParser()\n",
    "hp_ontology = parser.get_ontology()\n",
    "hpo_cr = parser.get_hpo_concept_recognizer()\n",
    "hpo_version = parser.get_version()\n",
    "PMID = \"PMID:30945334\"\n",
    "title = \"Recurrent de novo MAPK8IP3 variants cause neurological phenotypes\"\n",
    "cite = Citation(pmid=PMID, title=title)\n",
    "metadata = MetaData(created_by=\"ORCID:0000-0002-0736-9199\", citation=cite)\n",
    "metadata.default_versions_with_hpo(version=hpo_version)"
   ]
  },
  {
   "cell_type": "markdown",
   "id": "5102722a",
   "metadata": {},
   "source": [
    "<h2>Importing the supplemental table</h2>\n",
    "<p>The Table of the Iwasawa et al (2019) paper was copied into an Excel file that is included in the data subfolder</p>\n",
    "<p>Here, we use the pandas library to import this file (note that the Python package called openpyxl must be installed to read Excel files with pandas, although the library does not need to be imported in this notebook). pyphetools expects a pandas DataFrame as input, and users can choose any input format available for pandas include CSV, TSV, and Excel, or can use any other method to transform their input data into a Pandas DataFrame before using pyphetools.</p>"
   ]
  },
  {
   "cell_type": "code",
   "execution_count": 3,
   "id": "f17c3924",
   "metadata": {},
   "outputs": [],
   "source": [
    "df = pd.read_excel('data/PMID_30945334.xlsx')"
   ]
  },
  {
   "cell_type": "code",
   "execution_count": 4,
   "id": "06ec7dbd",
   "metadata": {},
   "outputs": [
    {
     "data": {
      "text/html": [
       "<div>\n",
       "<style scoped>\n",
       "    .dataframe tbody tr th:only-of-type {\n",
       "        vertical-align: middle;\n",
       "    }\n",
       "\n",
       "    .dataframe tbody tr th {\n",
       "        vertical-align: top;\n",
       "    }\n",
       "\n",
       "    .dataframe thead th {\n",
       "        text-align: right;\n",
       "    }\n",
       "</style>\n",
       "<table border=\"1\" class=\"dataframe\">\n",
       "  <thead>\n",
       "    <tr style=\"text-align: right;\">\n",
       "      <th></th>\n",
       "      <th>identifier</th>\n",
       "      <th>Individual 1</th>\n",
       "      <th>Individual 2</th>\n",
       "      <th>Individual 3</th>\n",
       "      <th>Individual 4</th>\n",
       "      <th>Individual 5</th>\n",
       "    </tr>\n",
       "  </thead>\n",
       "  <tbody>\n",
       "    <tr>\n",
       "      <th>0</th>\n",
       "      <td>Variant (hg19, NM_015133.4)</td>\n",
       "      <td>c.1732C&gt;T</td>\n",
       "      <td>c.1732C&gt;T</td>\n",
       "      <td>c.1732C&gt;T</td>\n",
       "      <td>c.3436C&gt;T</td>\n",
       "      <td>c.3436C&gt;T</td>\n",
       "    </tr>\n",
       "    <tr>\n",
       "      <th>1</th>\n",
       "      <td>Protein variant</td>\n",
       "      <td>(p.Arg578Cys)</td>\n",
       "      <td>(p.Arg578Cys)</td>\n",
       "      <td>(p.Arg578Cys)</td>\n",
       "      <td>(p.Arg1146Cys)</td>\n",
       "      <td>(p.Arg1146Cys)</td>\n",
       "    </tr>\n",
       "  </tbody>\n",
       "</table>\n",
       "</div>"
      ],
      "text/plain": [
       "                    identifier   Individual 1   Individual 2   Individual 3  \\\n",
       "0  Variant (hg19, NM_015133.4)      c.1732C>T      c.1732C>T      c.1732C>T   \n",
       "1              Protein variant  (p.Arg578Cys)  (p.Arg578Cys)  (p.Arg578Cys)   \n",
       "\n",
       "     Individual 4    Individual 5  \n",
       "0       c.3436C>T       c.3436C>T  \n",
       "1  (p.Arg1146Cys)  (p.Arg1146Cys)  "
      ]
     },
     "execution_count": 4,
     "metadata": {},
     "output_type": "execute_result"
    }
   ],
   "source": [
    "df.head(2)"
   ]
  },
  {
   "cell_type": "markdown",
   "id": "f7f7bad9",
   "metadata": {},
   "source": [
    "<h1>Converting to row-based format</h1>\n",
    "<p>To use pyphetools, we need to have the individuals represented as rows (one row per individual) and have the items of interest be encoded as column names. The required transformations for doing this may be different for different input data, but often we will want to transpose the table (using the pandas <tt>transpose</tt> function) and set the column names of the new table to the zero-th row. After this, we drop the zero-th row (otherwise, it will be interpreted as an individual by the pyphetools code).</p>\n",
    "<p>After this step is completed, the remaining steps to create phenopackets are the same as in the \n",
    "    <a href=\"http://localhost:8888/notebooks/notebooks/Create%20phenopackets%20from%20tabular%20data%20with%20individuals%20in%20rows.ipynb\" target=\"__blank\">row-based notebook</a>.</p>"
   ]
  },
  {
   "cell_type": "code",
   "execution_count": 5,
   "id": "c85c793f",
   "metadata": {},
   "outputs": [
    {
     "data": {
      "text/html": [
       "<div>\n",
       "<style scoped>\n",
       "    .dataframe tbody tr th:only-of-type {\n",
       "        vertical-align: middle;\n",
       "    }\n",
       "\n",
       "    .dataframe tbody tr th {\n",
       "        vertical-align: top;\n",
       "    }\n",
       "\n",
       "    .dataframe thead th {\n",
       "        text-align: right;\n",
       "    }\n",
       "</style>\n",
       "<table border=\"1\" class=\"dataframe\">\n",
       "  <thead>\n",
       "    <tr style=\"text-align: right;\">\n",
       "      <th>identifier</th>\n",
       "      <th>Variant (hg19, NM_015133.4)</th>\n",
       "      <th>Protein variant</th>\n",
       "      <th>Age (yr)</th>\n",
       "      <th>Sex</th>\n",
       "      <th>Gestational ages (weeks)</th>\n",
       "      <th>Delayed motor development</th>\n",
       "      <th>Age at head control (months)</th>\n",
       "      <th>Age at rolling (months)</th>\n",
       "      <th>Age at unsupported sitting (months)</th>\n",
       "      <th>Age at crawling (months)</th>\n",
       "      <th>...</th>\n",
       "      <th>Corpus callosum hypoplasia</th>\n",
       "      <th>Facial dysmorphism</th>\n",
       "      <th>Round face</th>\n",
       "      <th>Prominent nasal bridge</th>\n",
       "      <th>Thin upper lip</th>\n",
       "      <th>Others</th>\n",
       "      <th>Other</th>\n",
       "      <th>Short stature</th>\n",
       "      <th>Obesity</th>\n",
       "      <th>Precocious puberty</th>\n",
       "    </tr>\n",
       "  </thead>\n",
       "  <tbody>\n",
       "    <tr>\n",
       "      <th>Individual 1</th>\n",
       "      <td>c.1732C&gt;T</td>\n",
       "      <td>(p.Arg578Cys)</td>\n",
       "      <td>29</td>\n",
       "      <td>Male</td>\n",
       "      <td>39</td>\n",
       "      <td>+</td>\n",
       "      <td>2.5</td>\n",
       "      <td>ND</td>\n",
       "      <td>7</td>\n",
       "      <td>468</td>\n",
       "      <td>...</td>\n",
       "      <td>++</td>\n",
       "      <td>NaN</td>\n",
       "      <td>+</td>\n",
       "      <td>−</td>\n",
       "      <td>+</td>\n",
       "      <td>NaN</td>\n",
       "      <td>NaN</td>\n",
       "      <td>+</td>\n",
       "      <td>+</td>\n",
       "      <td>+</td>\n",
       "    </tr>\n",
       "    <tr>\n",
       "      <th>Individual 2</th>\n",
       "      <td>c.1732C&gt;T</td>\n",
       "      <td>(p.Arg578Cys)</td>\n",
       "      <td>27</td>\n",
       "      <td>Female</td>\n",
       "      <td>40</td>\n",
       "      <td>+</td>\n",
       "      <td>3.5</td>\n",
       "      <td>11</td>\n",
       "      <td>6</td>\n",
       "      <td>11</td>\n",
       "      <td>...</td>\n",
       "      <td>++</td>\n",
       "      <td>NaN</td>\n",
       "      <td>+</td>\n",
       "      <td>−</td>\n",
       "      <td>+</td>\n",
       "      <td>NaN</td>\n",
       "      <td>NaN</td>\n",
       "      <td>+</td>\n",
       "      <td>+</td>\n",
       "      <td>+</td>\n",
       "    </tr>\n",
       "  </tbody>\n",
       "</table>\n",
       "<p>2 rows × 34 columns</p>\n",
       "</div>"
      ],
      "text/plain": [
       "identifier   Variant (hg19, NM_015133.4) Protein variant Age (yr)     Sex  \\\n",
       "Individual 1                   c.1732C>T   (p.Arg578Cys)       29    Male   \n",
       "Individual 2                   c.1732C>T   (p.Arg578Cys)       27  Female   \n",
       "\n",
       "identifier   Gestational ages (weeks) Delayed motor development  \\\n",
       "Individual 1                       39                         +   \n",
       "Individual 2                       40                         +   \n",
       "\n",
       "identifier   Age at head control (months) Age at rolling (months)  \\\n",
       "Individual 1                          2.5                      ND   \n",
       "Individual 2                          3.5                      11   \n",
       "\n",
       "identifier   Age at unsupported sitting (months) Age at crawling (months)   \\\n",
       "Individual 1                                   7                       468   \n",
       "Individual 2                                   6                        11   \n",
       "\n",
       "identifier    ... Corpus callosum hypoplasia Facial dysmorphism Round face  \\\n",
       "Individual 1  ...                         ++                NaN          +   \n",
       "Individual 2  ...                         ++                NaN          +   \n",
       "\n",
       "identifier   Prominent nasal bridge Thin upper lip Others Other Short stature  \\\n",
       "Individual 1                      −              +    NaN   NaN             +   \n",
       "Individual 2                      −              +    NaN   NaN             +   \n",
       "\n",
       "identifier   Obesity Precocious puberty  \n",
       "Individual 1       +                  +  \n",
       "Individual 2       +                  +  \n",
       "\n",
       "[2 rows x 34 columns]"
      ]
     },
     "execution_count": 5,
     "metadata": {},
     "output_type": "execute_result"
    }
   ],
   "source": [
    "dft = df.transpose()\n",
    "\n",
    "dft.columns = dft.iloc[0]\n",
    "dft.drop(dft.index[0], inplace=True)\n",
    "dft.head(2)"
   ]
  },
  {
   "cell_type": "markdown",
   "id": "8bd821df",
   "metadata": {},
   "source": [
    "<h2>Index vs. normal column</h2>\n",
    "<p>Another thing to look out for is whether the individuals (usually the first column) are regarded as the index of the table or as the first normal column.</p>\n",
    "<p>If this is the case, it is easiest to create a new column with the contents of the index -- this will work with the pyphetools software. An example follows -- we can now use 'patient_id' as the column name.</p>"
   ]
  },
  {
   "cell_type": "code",
   "execution_count": 6,
   "id": "768b0963",
   "metadata": {},
   "outputs": [
    {
     "data": {
      "text/html": [
       "<div>\n",
       "<style scoped>\n",
       "    .dataframe tbody tr th:only-of-type {\n",
       "        vertical-align: middle;\n",
       "    }\n",
       "\n",
       "    .dataframe tbody tr th {\n",
       "        vertical-align: top;\n",
       "    }\n",
       "\n",
       "    .dataframe thead th {\n",
       "        text-align: right;\n",
       "    }\n",
       "</style>\n",
       "<table border=\"1\" class=\"dataframe\">\n",
       "  <thead>\n",
       "    <tr style=\"text-align: right;\">\n",
       "      <th>identifier</th>\n",
       "      <th>Variant (hg19, NM_015133.4)</th>\n",
       "      <th>Protein variant</th>\n",
       "      <th>Age (yr)</th>\n",
       "      <th>Sex</th>\n",
       "      <th>Gestational ages (weeks)</th>\n",
       "      <th>Delayed motor development</th>\n",
       "      <th>Age at head control (months)</th>\n",
       "      <th>Age at rolling (months)</th>\n",
       "      <th>Age at unsupported sitting (months)</th>\n",
       "      <th>Age at crawling (months)</th>\n",
       "      <th>...</th>\n",
       "      <th>Facial dysmorphism</th>\n",
       "      <th>Round face</th>\n",
       "      <th>Prominent nasal bridge</th>\n",
       "      <th>Thin upper lip</th>\n",
       "      <th>Others</th>\n",
       "      <th>Other</th>\n",
       "      <th>Short stature</th>\n",
       "      <th>Obesity</th>\n",
       "      <th>Precocious puberty</th>\n",
       "      <th>individual_id</th>\n",
       "    </tr>\n",
       "  </thead>\n",
       "  <tbody>\n",
       "    <tr>\n",
       "      <th>Individual 1</th>\n",
       "      <td>c.1732C&gt;T</td>\n",
       "      <td>(p.Arg578Cys)</td>\n",
       "      <td>29</td>\n",
       "      <td>Male</td>\n",
       "      <td>39</td>\n",
       "      <td>+</td>\n",
       "      <td>2.5</td>\n",
       "      <td>ND</td>\n",
       "      <td>7</td>\n",
       "      <td>468</td>\n",
       "      <td>...</td>\n",
       "      <td>NaN</td>\n",
       "      <td>+</td>\n",
       "      <td>−</td>\n",
       "      <td>+</td>\n",
       "      <td>NaN</td>\n",
       "      <td>NaN</td>\n",
       "      <td>+</td>\n",
       "      <td>+</td>\n",
       "      <td>+</td>\n",
       "      <td>Individual 1</td>\n",
       "    </tr>\n",
       "    <tr>\n",
       "      <th>Individual 2</th>\n",
       "      <td>c.1732C&gt;T</td>\n",
       "      <td>(p.Arg578Cys)</td>\n",
       "      <td>27</td>\n",
       "      <td>Female</td>\n",
       "      <td>40</td>\n",
       "      <td>+</td>\n",
       "      <td>3.5</td>\n",
       "      <td>11</td>\n",
       "      <td>6</td>\n",
       "      <td>11</td>\n",
       "      <td>...</td>\n",
       "      <td>NaN</td>\n",
       "      <td>+</td>\n",
       "      <td>−</td>\n",
       "      <td>+</td>\n",
       "      <td>NaN</td>\n",
       "      <td>NaN</td>\n",
       "      <td>+</td>\n",
       "      <td>+</td>\n",
       "      <td>+</td>\n",
       "      <td>Individual 2</td>\n",
       "    </tr>\n",
       "  </tbody>\n",
       "</table>\n",
       "<p>2 rows × 35 columns</p>\n",
       "</div>"
      ],
      "text/plain": [
       "identifier   Variant (hg19, NM_015133.4) Protein variant Age (yr)     Sex  \\\n",
       "Individual 1                   c.1732C>T   (p.Arg578Cys)       29    Male   \n",
       "Individual 2                   c.1732C>T   (p.Arg578Cys)       27  Female   \n",
       "\n",
       "identifier   Gestational ages (weeks) Delayed motor development  \\\n",
       "Individual 1                       39                         +   \n",
       "Individual 2                       40                         +   \n",
       "\n",
       "identifier   Age at head control (months) Age at rolling (months)  \\\n",
       "Individual 1                          2.5                      ND   \n",
       "Individual 2                          3.5                      11   \n",
       "\n",
       "identifier   Age at unsupported sitting (months) Age at crawling (months)   \\\n",
       "Individual 1                                   7                       468   \n",
       "Individual 2                                   6                        11   \n",
       "\n",
       "identifier    ... Facial dysmorphism Round face Prominent nasal bridge  \\\n",
       "Individual 1  ...                NaN          +                      −   \n",
       "Individual 2  ...                NaN          +                      −   \n",
       "\n",
       "identifier   Thin upper lip Others Other Short stature Obesity  \\\n",
       "Individual 1              +    NaN   NaN             +       +   \n",
       "Individual 2              +    NaN   NaN             +       +   \n",
       "\n",
       "identifier   Precocious puberty individual_id  \n",
       "Individual 1                  +  Individual 1  \n",
       "Individual 2                  +  Individual 2  \n",
       "\n",
       "[2 rows x 35 columns]"
      ]
     },
     "execution_count": 6,
     "metadata": {},
     "output_type": "execute_result"
    }
   ],
   "source": [
    "dft.index\n",
    "dft['individual_id'] = dft.index\n",
    "dft.head(2)"
   ]
  },
  {
   "cell_type": "markdown",
   "id": "8314d6bd",
   "metadata": {},
   "source": [
    "<h2>Column mappers</h2>\n",
    "<p>Please see the notebook \"Create phenopackets from tabular data with individuals in rows\" for explanations. In the following cell we create a dictionary for the ColumnMappers. Note that the code is identical except that we use the df.loc function to get the corresponding row data</p>"
   ]
  },
  {
   "cell_type": "code",
   "execution_count": 7,
   "id": "59d9e9e8",
   "metadata": {},
   "outputs": [],
   "source": [
    "column_mapper_list = list()"
   ]
  },
  {
   "cell_type": "code",
   "execution_count": 8,
   "id": "8e2e313a",
   "metadata": {},
   "outputs": [
    {
     "data": {
      "text/html": [
       "<div>\n",
       "<style scoped>\n",
       "    .dataframe tbody tr th:only-of-type {\n",
       "        vertical-align: middle;\n",
       "    }\n",
       "\n",
       "    .dataframe tbody tr th {\n",
       "        vertical-align: top;\n",
       "    }\n",
       "\n",
       "    .dataframe thead th {\n",
       "        text-align: right;\n",
       "    }\n",
       "</style>\n",
       "<table border=\"1\" class=\"dataframe\">\n",
       "  <thead>\n",
       "    <tr style=\"text-align: right;\">\n",
       "      <th></th>\n",
       "      <th>mapping</th>\n",
       "      <th>count</th>\n",
       "    </tr>\n",
       "  </thead>\n",
       "  <tbody>\n",
       "    <tr>\n",
       "      <th>0</th>\n",
       "      <td>original value: \"+\" -&gt; HP: Motor delay (HP:0001270) (observed)</td>\n",
       "      <td>5</td>\n",
       "    </tr>\n",
       "  </tbody>\n",
       "</table>\n",
       "</div>"
      ],
      "text/plain": [
       "                                                          mapping count\n",
       "0  original value: \"+\" -> HP: Motor delay (HP:0001270) (observed)     5"
      ]
     },
     "execution_count": 8,
     "metadata": {},
     "output_type": "execute_result"
    }
   ],
   "source": [
    "delayedMotorMapper = SimpleColumnMapper(column_name='Delayed motor development',\n",
    "                                        hpo_id='HP:0001270',hpo_label='Motor delay',observed='+', excluded='-')\n",
    "column_mapper_list.append(delayedMotorMapper)\n",
    "delayedMotorMapper.preview_column(dft)"
   ]
  },
  {
   "cell_type": "markdown",
   "id": "03adfdb5",
   "metadata": {},
   "source": [
    "<h2>ThresholdedColumnMapper</h2>\n",
    "<p>Use this mapper for phenotypic features that are reported as ages (numbers). For instance, \n",
    "if \"Age at head control (months)\" is over 4 months, we would call <a href=\"https://hpo.jax.org/app/browse/term/HP:0032988\" target=\"__blank\">\n",
    "Persistent head lag HP:0032988</a>.</p>\n",
    "\n"
   ]
  },
  {
   "cell_type": "code",
   "execution_count": 9,
   "id": "82cfbe6c",
   "metadata": {},
   "outputs": [
    {
     "data": {
      "text/html": [
       "<div>\n",
       "<style scoped>\n",
       "    .dataframe tbody tr th:only-of-type {\n",
       "        vertical-align: middle;\n",
       "    }\n",
       "\n",
       "    .dataframe tbody tr th {\n",
       "        vertical-align: top;\n",
       "    }\n",
       "\n",
       "    .dataframe thead th {\n",
       "        text-align: right;\n",
       "    }\n",
       "</style>\n",
       "<table border=\"1\" class=\"dataframe\">\n",
       "  <thead>\n",
       "    <tr style=\"text-align: right;\">\n",
       "      <th></th>\n",
       "      <th>mapping: None-4.0 month</th>\n",
       "      <th>count</th>\n",
       "    </tr>\n",
       "  </thead>\n",
       "  <tbody>\n",
       "    <tr>\n",
       "      <th>0</th>\n",
       "      <td>Persistent head lag (HP:0032988): not measured</td>\n",
       "      <td>3</td>\n",
       "    </tr>\n",
       "    <tr>\n",
       "      <th>1</th>\n",
       "      <td>Persistent head lag (HP:0032988): observed</td>\n",
       "      <td>2</td>\n",
       "    </tr>\n",
       "  </tbody>\n",
       "</table>\n",
       "</div>"
      ],
      "text/plain": [
       "                          mapping: None-4.0 month count\n",
       "0  Persistent head lag (HP:0032988): not measured     3\n",
       "1      Persistent head lag (HP:0032988): observed     2"
      ]
     },
     "execution_count": 9,
     "metadata": {},
     "output_type": "execute_result"
    }
   ],
   "source": [
    "persistentHL = HpTerm(hpo_id=\"HP:0032988\", label=\"Persistent head lag\")\n",
    "headLag = Thresholder(hpo_term_high=persistentHL, threshold_high=4, unit=\"month\")\n",
    "headLagMapper = ThresholdedColumnMapper(column_name=\"Age at head control (months)\",\n",
    "                                        thresholder=headLag)\n",
    "column_mapper_list.append(headLagMapper)\n",
    "headLagMapper.preview_column(dft)"
   ]
  },
  {
   "cell_type": "markdown",
   "id": "d5797592",
   "metadata": {},
   "source": [
    "<p>Here is another example:  <a href=\"https://hpo.jax.org/app/browse/term/HP:0032989\" target=\"__blank\">\n",
    "Delayed ability to roll over (HP:0032989)</a>. . We will use the threshold of 6 months. </p>"
   ]
  },
  {
   "cell_type": "code",
   "execution_count": 10,
   "id": "fa57c026",
   "metadata": {},
   "outputs": [
    {
     "data": {
      "text/html": [
       "<div>\n",
       "<style scoped>\n",
       "    .dataframe tbody tr th:only-of-type {\n",
       "        vertical-align: middle;\n",
       "    }\n",
       "\n",
       "    .dataframe tbody tr th {\n",
       "        vertical-align: top;\n",
       "    }\n",
       "\n",
       "    .dataframe thead th {\n",
       "        text-align: right;\n",
       "    }\n",
       "</style>\n",
       "<table border=\"1\" class=\"dataframe\">\n",
       "  <thead>\n",
       "    <tr style=\"text-align: right;\">\n",
       "      <th></th>\n",
       "      <th>mapping: None-6.0 month</th>\n",
       "      <th>count</th>\n",
       "    </tr>\n",
       "  </thead>\n",
       "  <tbody>\n",
       "    <tr>\n",
       "      <th>0</th>\n",
       "      <td>Delayed ability to roll over (HP:0032989): not measured</td>\n",
       "      <td>3</td>\n",
       "    </tr>\n",
       "    <tr>\n",
       "      <th>1</th>\n",
       "      <td>Delayed ability to roll over (HP:0032989): observed</td>\n",
       "      <td>2</td>\n",
       "    </tr>\n",
       "  </tbody>\n",
       "</table>\n",
       "</div>"
      ],
      "text/plain": [
       "                                   mapping: None-6.0 month count\n",
       "0  Delayed ability to roll over (HP:0032989): not measured     3\n",
       "1      Delayed ability to roll over (HP:0032989): observed     2"
      ]
     },
     "execution_count": 10,
     "metadata": {},
     "output_type": "execute_result"
    }
   ],
   "source": [
    "rollOver = HpTerm(hpo_id=\"HP:0032989\", label=\"Delayed ability to roll over\",)\n",
    "rot = Thresholder(hpo_term_high=rollOver, threshold_high=6, unit=\"month\")\n",
    "rollOverMappper = ThresholdedColumnMapper(column_name=\"Age at rolling (months)\", thresholder=rot)\n",
    "column_mapper_list.append(rollOverMappper)\n",
    "rollOverMappper.preview_column(dft)"
   ]
  },
  {
   "cell_type": "markdown",
   "id": "b9cc2d6b",
   "metadata": {},
   "source": [
    "<h2>ThresholdedColumnMapper - special code</h2>\n",
    "<p>In some cases, phrases such as 'not attained' are used to denote that a child has not attained a certain milestone at the\n",
    "time of last examination and this this constitutes an abnormal finding. In this case, the optional argument ''observed_code'' should be used.</p>"
   ]
  },
  {
   "cell_type": "code",
   "execution_count": 11,
   "id": "13c44b0d",
   "metadata": {},
   "outputs": [
    {
     "data": {
      "text/html": [
       "<div>\n",
       "<style scoped>\n",
       "    .dataframe tbody tr th:only-of-type {\n",
       "        vertical-align: middle;\n",
       "    }\n",
       "\n",
       "    .dataframe tbody tr th {\n",
       "        vertical-align: top;\n",
       "    }\n",
       "\n",
       "    .dataframe thead th {\n",
       "        text-align: right;\n",
       "    }\n",
       "</style>\n",
       "<table border=\"1\" class=\"dataframe\">\n",
       "  <thead>\n",
       "    <tr style=\"text-align: right;\">\n",
       "      <th></th>\n",
       "      <th>mapping: None-9.0 month</th>\n",
       "      <th>count</th>\n",
       "    </tr>\n",
       "  </thead>\n",
       "  <tbody>\n",
       "    <tr>\n",
       "      <th>0</th>\n",
       "      <td>Delayed ability to sit (HP:0025336): not measured</td>\n",
       "      <td>2</td>\n",
       "    </tr>\n",
       "    <tr>\n",
       "      <th>1</th>\n",
       "      <td>Delayed ability to sit (HP:0025336): observed</td>\n",
       "      <td>3</td>\n",
       "    </tr>\n",
       "  </tbody>\n",
       "</table>\n",
       "</div>"
      ],
      "text/plain": [
       "                             mapping: None-9.0 month count\n",
       "0  Delayed ability to sit (HP:0025336): not measured     2\n",
       "1      Delayed ability to sit (HP:0025336): observed     3"
      ]
     },
     "execution_count": 11,
     "metadata": {},
     "output_type": "execute_result"
    }
   ],
   "source": [
    "# Age at unsupported sitting (months) \tthreshold: 9 months\n",
    "delayedSit = HpTerm(hpo_id=\"HP:0025336\", label=\"Delayed ability to sit\")\n",
    "sitThreshold = Thresholder(hpo_term_high=delayedSit, threshold_high=9, unit=\"month\")\n",
    "delayedSittingMapper =  ThresholdedColumnMapper(column_name=\"Age at unsupported sitting (months)\", thresholder=sitThreshold)\n",
    "column_mapper_list.append(delayedSittingMapper)\n",
    "delayedSittingMapper.preview_column(dft)"
   ]
  },
  {
   "cell_type": "code",
   "execution_count": 12,
   "id": "a7443f90",
   "metadata": {},
   "outputs": [
    {
     "data": {
      "text/html": [
       "<div>\n",
       "<style scoped>\n",
       "    .dataframe tbody tr th:only-of-type {\n",
       "        vertical-align: middle;\n",
       "    }\n",
       "\n",
       "    .dataframe tbody tr th {\n",
       "        vertical-align: top;\n",
       "    }\n",
       "\n",
       "    .dataframe thead th {\n",
       "        text-align: right;\n",
       "    }\n",
       "</style>\n",
       "<table border=\"1\" class=\"dataframe\">\n",
       "  <thead>\n",
       "    <tr style=\"text-align: right;\">\n",
       "      <th></th>\n",
       "      <th>mapping: None-15.0 month</th>\n",
       "      <th>count</th>\n",
       "    </tr>\n",
       "  </thead>\n",
       "  <tbody>\n",
       "    <tr>\n",
       "      <th>0</th>\n",
       "      <td>Delayed ability to walk (HP:0031936): observed</td>\n",
       "      <td>5</td>\n",
       "    </tr>\n",
       "  </tbody>\n",
       "</table>\n",
       "</div>"
      ],
      "text/plain": [
       "                         mapping: None-15.0 month count\n",
       "0  Delayed ability to walk (HP:0031936): observed     5"
      ]
     },
     "execution_count": 12,
     "metadata": {},
     "output_type": "execute_result"
    }
   ],
   "source": [
    "# Age at walking (months) - 15 months -- Delayed ability to walk HP:0031936\n",
    "delayedWalk = HpTerm(hpo_id=\"HP:0031936\", label=\"Delayed ability to walk\")\n",
    "walkTh = Thresholder(hpo_term_high=delayedWalk, threshold_high=15, unit=\"month\")\n",
    "delayedWalkingMapper =  ThresholdedColumnMapper( column_name=\"Age at walking (months)\", thresholder=walkTh)\n",
    "column_mapper_list.append(delayedWalkingMapper)\n",
    "delayedWalkingMapper.preview_column(dft)"
   ]
  },
  {
   "cell_type": "markdown",
   "id": "7fdaa77d-29b3-4ce4-8f05-9b8409cae82c",
   "metadata": {},
   "source": [
    "<h2>Other columns</h2>\n",
    "<p>The following \"simple\" columns are created in a loop for simplicity. The key represents the words used in the table, and the value is a two-element array with the corresponding HPO label and term id. See \n",
    "    <a href=\"http://localhost:8888/notebooks/notebooks/Create%20phenopackets%20from%20tabular%20data%20with%20individuals%20in%20rows.ipynb\" target=\"__blank\">row-based notebook</a>\n",
    "    for more information.</p>"
   ]
  },
  {
   "cell_type": "code",
   "execution_count": 13,
   "id": "a3e15290-0011-4aea-acf5-1810eb6d7e1b",
   "metadata": {},
   "outputs": [
    {
     "name": "stdout",
     "output_type": "stream",
     "text": [
      "We created 13 simple column mappers\n"
     ]
    }
   ],
   "source": [
    "items = {\n",
    "    'History of regression': [\"Developmental regression\",\"HP:0002376\"],\n",
    "    'Spastic diplegia':['Spastic diplegia', 'HP:0001264'],     #       \n",
    "    'Autistic behavior': ['Autistic behavior', 'HP:0000729'],  # \n",
    "    'Infantile hypotonia':['Infantile muscular hypotonia','HP:0008947'], # \n",
    "    'Cerebral atrophy':[\"Cerebral atrophy\",\"HP:0002059\"], #\n",
    "    'Delayed myelination':[\"Delayed CNS myelination\",\"HP:0002188\"], #\n",
    "    'Corpus callosum hypoplasia':['Hypoplasia of the corpus callosum','HP:0002079'],#\n",
    "    'Prominent nasal bridge':['Prominent nasal bridge','HP:0000426'], #\n",
    "    'Thin upper lip':[\"Thin upper lip vermilion\",\"HP:0000219\"],\n",
    "    \"Round face\":[\"Round face\",\"HP:0000311\"],\n",
    "    \"Short stature\":[\"Short stature\",\"HP:0004322\"],\n",
    "    \"Obesity\":[\"Obesity\", \"HP:0001513\"],\n",
    "    \"Precocious puberty\":[\"Precocious puberty\", \"HP:0000826\"],\n",
    "}\n",
    "item_column_mapper_d = hpo_cr.initialize_simple_column_maps(column_name_to_hpo_label_map=items, observed='+',\n",
    "    excluded='-')\n",
    "print(f\"We created {len(item_column_mapper_d)} simple column mappers\")\n",
    "# Transfer to column_mapper_d\n",
    "for k, v in item_column_mapper_d.items():\n",
    "    column_mapper_list.append(v)"
   ]
  },
  {
   "cell_type": "code",
   "execution_count": 14,
   "id": "90b39bc5",
   "metadata": {},
   "outputs": [
    {
     "data": {
      "text/html": [
       "<div>\n",
       "<style scoped>\n",
       "    .dataframe tbody tr th:only-of-type {\n",
       "        vertical-align: middle;\n",
       "    }\n",
       "\n",
       "    .dataframe tbody tr th {\n",
       "        vertical-align: top;\n",
       "    }\n",
       "\n",
       "    .dataframe thead th {\n",
       "        text-align: right;\n",
       "    }\n",
       "</style>\n",
       "<table border=\"1\" class=\"dataframe\">\n",
       "  <thead>\n",
       "    <tr style=\"text-align: right;\">\n",
       "      <th></th>\n",
       "      <th>mapping</th>\n",
       "      <th>count</th>\n",
       "    </tr>\n",
       "  </thead>\n",
       "  <tbody>\n",
       "    <tr>\n",
       "      <th>0</th>\n",
       "      <td>Intellectual disability, severe (HP:0010864) (observed)</td>\n",
       "      <td>4</td>\n",
       "    </tr>\n",
       "    <tr>\n",
       "      <th>1</th>\n",
       "      <td>Intellectual disability, profound (HP:0002187) (observed)</td>\n",
       "      <td>1</td>\n",
       "    </tr>\n",
       "  </tbody>\n",
       "</table>\n",
       "</div>"
      ],
      "text/plain": [
       "                                                     mapping count\n",
       "0    Intellectual disability, severe (HP:0010864) (observed)     4\n",
       "1  Intellectual disability, profound (HP:0002187) (observed)     1"
      ]
     },
     "execution_count": 14,
     "metadata": {},
     "output_type": "execute_result"
    }
   ],
   "source": [
    "severity_d = {'Severe': 'Intellectual disability, severe',\n",
    "             'Profound': 'Intellectual disability, profound'}\n",
    "idMapper = OptionColumnMapper(column_name='Intellectual disability',\n",
    "                              concept_recognizer=hpo_cr, option_d=severity_d)\n",
    "column_mapper_list.append(idMapper)\n",
    "idMapper.preview_column(dft)"
   ]
  },
  {
   "cell_type": "code",
   "execution_count": 15,
   "id": "89834a4d",
   "metadata": {},
   "outputs": [
    {
     "data": {
      "text/html": [
       "<div>\n",
       "<style scoped>\n",
       "    .dataframe tbody tr th:only-of-type {\n",
       "        vertical-align: middle;\n",
       "    }\n",
       "\n",
       "    .dataframe tbody tr th {\n",
       "        vertical-align: top;\n",
       "    }\n",
       "\n",
       "    .dataframe thead th {\n",
       "        text-align: right;\n",
       "    }\n",
       "</style>\n",
       "<table border=\"1\" class=\"dataframe\">\n",
       "  <thead>\n",
       "    <tr style=\"text-align: right;\">\n",
       "      <th></th>\n",
       "      <th>mapping</th>\n",
       "      <th>count</th>\n",
       "    </tr>\n",
       "  </thead>\n",
       "  <tbody>\n",
       "    <tr>\n",
       "      <th>0</th>\n",
       "      <td>Delayed speech and language development (HP:0000750) (observed)</td>\n",
       "      <td>3</td>\n",
       "    </tr>\n",
       "    <tr>\n",
       "      <th>1</th>\n",
       "      <td>Absent speech (HP:0001344) (observed)</td>\n",
       "      <td>2</td>\n",
       "    </tr>\n",
       "  </tbody>\n",
       "</table>\n",
       "</div>"
      ],
      "text/plain": [
       "                                                           mapping count\n",
       "0  Delayed speech and language development (HP:0000750) (observed)     3\n",
       "1                            Absent speech (HP:0001344) (observed)     2"
      ]
     },
     "execution_count": 15,
     "metadata": {},
     "output_type": "execute_result"
    }
   ],
   "source": [
    "# Language skills\n",
    "language_d = {'Simple two-word sentences': 'Delayed speech and language development',\n",
    "             'Simple words': 'Delayed speech and language development',\n",
    "             'Nonverbal': 'Absent speech'}\n",
    "languageMapper = OptionColumnMapper(column_name='Language skills',concept_recognizer=hpo_cr, option_d=language_d)\n",
    "column_mapper_list.append(languageMapper)\n",
    "languageMapper.preview_column(dft)"
   ]
  },
  {
   "cell_type": "code",
   "execution_count": 16,
   "id": "eb0933ce",
   "metadata": {},
   "outputs": [
    {
     "data": {
      "text/html": [
       "<div>\n",
       "<style scoped>\n",
       "    .dataframe tbody tr th:only-of-type {\n",
       "        vertical-align: middle;\n",
       "    }\n",
       "\n",
       "    .dataframe tbody tr th {\n",
       "        vertical-align: top;\n",
       "    }\n",
       "\n",
       "    .dataframe thead th {\n",
       "        text-align: right;\n",
       "    }\n",
       "</style>\n",
       "<table border=\"1\" class=\"dataframe\">\n",
       "  <thead>\n",
       "    <tr style=\"text-align: right;\">\n",
       "      <th></th>\n",
       "      <th>mapping</th>\n",
       "      <th>count</th>\n",
       "    </tr>\n",
       "  </thead>\n",
       "  <tbody>\n",
       "    <tr>\n",
       "      <th>0</th>\n",
       "      <td>Loss of ambulation (HP:0002505) (observed)</td>\n",
       "      <td>3</td>\n",
       "    </tr>\n",
       "    <tr>\n",
       "      <th>1</th>\n",
       "      <td>Delayed gross motor development (HP:0002194) (observed)</td>\n",
       "      <td>1</td>\n",
       "    </tr>\n",
       "  </tbody>\n",
       "</table>\n",
       "</div>"
      ],
      "text/plain": [
       "                                                   mapping count\n",
       "0               Loss of ambulation (HP:0002505) (observed)     3\n",
       "1  Delayed gross motor development (HP:0002194) (observed)     1"
      ]
     },
     "execution_count": 16,
     "metadata": {},
     "output_type": "execute_result"
    }
   ],
   "source": [
    "# Gross motor skills Wheelchair bound \tWheelchair bound \tWheelchair bound \tCruising (5y)\tWalking  (5y)\n",
    "gms_d = {\n",
    "    \"Wheelchair bound\": \"Loss of ambulation\",\n",
    "    \"Cruising\": \"Delayed gross motor development\"\n",
    "}\n",
    "gmsMapper = OptionColumnMapper(column_name='Gross motor skills',concept_recognizer=hpo_cr, option_d=gms_d)\n",
    "column_mapper_list.append(gmsMapper)\n",
    "gmsMapper.preview_column(dft)\n"
   ]
  },
  {
   "cell_type": "code",
   "execution_count": 17,
   "id": "65c27c04",
   "metadata": {},
   "outputs": [
    {
     "data": {
      "text/html": [
       "<div>\n",
       "<style scoped>\n",
       "    .dataframe tbody tr th:only-of-type {\n",
       "        vertical-align: middle;\n",
       "    }\n",
       "\n",
       "    .dataframe tbody tr th {\n",
       "        vertical-align: top;\n",
       "    }\n",
       "\n",
       "    .dataframe thead th {\n",
       "        text-align: right;\n",
       "    }\n",
       "</style>\n",
       "<table border=\"1\" class=\"dataframe\">\n",
       "  <thead>\n",
       "    <tr style=\"text-align: right;\">\n",
       "      <th></th>\n",
       "      <th>mapping</th>\n",
       "      <th>count</th>\n",
       "    </tr>\n",
       "  </thead>\n",
       "  <tbody>\n",
       "    <tr>\n",
       "      <th>0</th>\n",
       "      <td>Thick eyebrow (HP:0000574) (observed)</td>\n",
       "      <td>1</td>\n",
       "    </tr>\n",
       "    <tr>\n",
       "      <th>1</th>\n",
       "      <td>Upslanted palpebral fissure (HP:0000582) (observed)</td>\n",
       "      <td>1</td>\n",
       "    </tr>\n",
       "    <tr>\n",
       "      <th>2</th>\n",
       "      <td>Anteverted nares (HP:0000463) (observed)</td>\n",
       "      <td>1</td>\n",
       "    </tr>\n",
       "    <tr>\n",
       "      <th>3</th>\n",
       "      <td>Short philtrum (HP:0000322) (observed)</td>\n",
       "      <td>1</td>\n",
       "    </tr>\n",
       "  </tbody>\n",
       "</table>\n",
       "</div>"
      ],
      "text/plain": [
       "                                               mapping count\n",
       "0                Thick eyebrow (HP:0000574) (observed)     1\n",
       "1  Upslanted palpebral fissure (HP:0000582) (observed)     1\n",
       "2             Anteverted nares (HP:0000463) (observed)     1\n",
       "3               Short philtrum (HP:0000322) (observed)     1"
      ]
     },
     "execution_count": 17,
     "metadata": {},
     "output_type": "execute_result"
    }
   ],
   "source": [
    "other_d = {\n",
    "    \"Long and thick eyebrows, \": [\"Thick eyebrows\", \"Long eyebrows\"],\n",
    "    \"upper slanted palpebral fissures\": \"Upslanted palpebral fissure\",\n",
    "}\n",
    "otherMapper = OptionColumnMapper(column_name='Others',concept_recognizer=hpo_cr, option_d=other_d)\n",
    "column_mapper_list.append(otherMapper)\n",
    "otherMapper.preview_column(dft)"
   ]
  },
  {
   "cell_type": "markdown",
   "id": "5e53617d",
   "metadata": {},
   "source": [
    "<h2>Variant Data</h2>\n",
    "<p>The variant data (HGVS< transcript) is listed in the Variant (hg19, NM_015133.4) column.</p>"
   ]
  },
  {
   "cell_type": "code",
   "execution_count": 18,
   "id": "21517a08",
   "metadata": {},
   "outputs": [],
   "source": [
    "MAPK8IP3_transcript='NM_015133.4'\n",
    "vman = VariantManager(df=dft, individual_column_name=\"individual_id\",transcript=MAPK8IP3_transcript,gene_symbol=\"MAPK8IP3\",\n",
    "                                     gene_id=\"HGNC:6884\", allele_1_column_name=\"Variant (hg19, NM_015133.4)\")"
   ]
  },
  {
   "cell_type": "code",
   "execution_count": 19,
   "id": "da4d5706",
   "metadata": {},
   "outputs": [],
   "source": [
    "varMapper = VariantColumnMapper(variant_column_name=\"Variant (hg19, NM_015133.4)\", variant_d=vman.get_variant_d(),default_genotype=\"heterozygous\")\n",
    "#varMapper.preview_column(dft['Variant (hg19, NM_015133.4)'])"
   ]
  },
  {
   "cell_type": "markdown",
   "id": "d1af2052",
   "metadata": {},
   "source": [
    "<h1>Demographic data</h1>\n",
    "<p>pyphetools can be used to capture information about age, sex, and individual identifiers. This information is stored in a map of \"IndividualMapper\" objects. Special treatment may be required for the indifiers, which may be used as the column names or row index.</p>"
   ]
  },
  {
   "cell_type": "code",
   "execution_count": 20,
   "id": "3e64dc08",
   "metadata": {},
   "outputs": [
    {
     "data": {
      "text/html": [
       "<div>\n",
       "<style scoped>\n",
       "    .dataframe tbody tr th:only-of-type {\n",
       "        vertical-align: middle;\n",
       "    }\n",
       "\n",
       "    .dataframe tbody tr th {\n",
       "        vertical-align: top;\n",
       "    }\n",
       "\n",
       "    .dataframe thead th {\n",
       "        text-align: right;\n",
       "    }\n",
       "</style>\n",
       "<table border=\"1\" class=\"dataframe\">\n",
       "  <thead>\n",
       "    <tr style=\"text-align: right;\">\n",
       "      <th></th>\n",
       "      <th>original column contents</th>\n",
       "      <th>age</th>\n",
       "    </tr>\n",
       "  </thead>\n",
       "  <tbody>\n",
       "    <tr>\n",
       "      <th>0</th>\n",
       "      <td>P29Y</td>\n",
       "      <td>29</td>\n",
       "    </tr>\n",
       "    <tr>\n",
       "      <th>1</th>\n",
       "      <td>P27Y</td>\n",
       "      <td>27</td>\n",
       "    </tr>\n",
       "    <tr>\n",
       "      <th>2</th>\n",
       "      <td>P16Y</td>\n",
       "      <td>16</td>\n",
       "    </tr>\n",
       "    <tr>\n",
       "      <th>3</th>\n",
       "      <td>P5Y</td>\n",
       "      <td>5</td>\n",
       "    </tr>\n",
       "  </tbody>\n",
       "</table>\n",
       "</div>"
      ],
      "text/plain": [
       "  original column contents  age\n",
       "0                     P29Y   29\n",
       "1                     P27Y   27\n",
       "2                     P16Y   16\n",
       "3                      P5Y    5"
      ]
     },
     "execution_count": 20,
     "metadata": {},
     "output_type": "execute_result"
    }
   ],
   "source": [
    "ageMapper = AgeColumnMapper.by_year('Age (yr)')\n",
    "ageMapper.preview_column(dft)"
   ]
  },
  {
   "cell_type": "code",
   "execution_count": 21,
   "id": "71f664cc",
   "metadata": {},
   "outputs": [
    {
     "data": {
      "text/html": [
       "<div>\n",
       "<style scoped>\n",
       "    .dataframe tbody tr th:only-of-type {\n",
       "        vertical-align: middle;\n",
       "    }\n",
       "\n",
       "    .dataframe tbody tr th {\n",
       "        vertical-align: top;\n",
       "    }\n",
       "\n",
       "    .dataframe thead th {\n",
       "        text-align: right;\n",
       "    }\n",
       "</style>\n",
       "<table border=\"1\" class=\"dataframe\">\n",
       "  <thead>\n",
       "    <tr style=\"text-align: right;\">\n",
       "      <th></th>\n",
       "      <th>original column contents</th>\n",
       "      <th>sex</th>\n",
       "    </tr>\n",
       "  </thead>\n",
       "  <tbody>\n",
       "    <tr>\n",
       "      <th>0</th>\n",
       "      <td>Male</td>\n",
       "      <td>MALE</td>\n",
       "    </tr>\n",
       "    <tr>\n",
       "      <th>1</th>\n",
       "      <td>Female</td>\n",
       "      <td>FEMALE</td>\n",
       "    </tr>\n",
       "    <tr>\n",
       "      <th>2</th>\n",
       "      <td>Male</td>\n",
       "      <td>MALE</td>\n",
       "    </tr>\n",
       "    <tr>\n",
       "      <th>3</th>\n",
       "      <td>Male</td>\n",
       "      <td>MALE</td>\n",
       "    </tr>\n",
       "    <tr>\n",
       "      <th>4</th>\n",
       "      <td>Female</td>\n",
       "      <td>FEMALE</td>\n",
       "    </tr>\n",
       "  </tbody>\n",
       "</table>\n",
       "</div>"
      ],
      "text/plain": [
       "  original column contents     sex\n",
       "0                     Male    MALE\n",
       "1                   Female  FEMALE\n",
       "2                     Male    MALE\n",
       "3                     Male    MALE\n",
       "4                   Female  FEMALE"
      ]
     },
     "execution_count": 21,
     "metadata": {},
     "output_type": "execute_result"
    }
   ],
   "source": [
    "sexMapper = SexColumnMapper(male_symbol='Male', female_symbol='Female', column_name='Sex')\n",
    "sexMapper.preview_column(dft)"
   ]
  },
  {
   "cell_type": "code",
   "execution_count": 22,
   "id": "f6581a8a",
   "metadata": {},
   "outputs": [],
   "source": [
    "encoder = CohortEncoder(df=dft, \n",
    "                        hpo_cr=hpo_cr, \n",
    "                        column_mapper_list=column_mapper_list, \n",
    "                        individual_column_name=\"individual_id\", \n",
    "                        age_at_last_encounter_mapper=ageMapper, \n",
    "                        sexmapper=sexMapper,\n",
    "                        variant_mapper=varMapper,\n",
    "                        metadata=metadata,\n",
    "                        )\n",
    "disease_id = \"OMIM:618443\"\n",
    "disease_label = \"Neurodevelopmental disorder with or without variable brain abnormalities\"\n",
    "NEDBA = Disease(disease_id=disease_id, disease_label=disease_label)\n",
    "encoder.set_disease(disease=NEDBA)"
   ]
  },
  {
   "cell_type": "code",
   "execution_count": 23,
   "id": "fd367ed6",
   "metadata": {},
   "outputs": [],
   "source": [
    "individuals = encoder.get_individuals()"
   ]
  },
  {
   "cell_type": "code",
   "execution_count": 24,
   "id": "5d044b78",
   "metadata": {},
   "outputs": [
    {
     "name": "stdout",
     "output_type": "stream",
     "text": [
      "{\n",
      "  \"id\": \"PMID_30945334_Individual_1\",\n",
      "  \"subject\": {\n",
      "    \"id\": \"Individual 1\",\n",
      "    \"timeAtLastEncounter\": {\n",
      "      \"age\": {\n",
      "        \"iso8601duration\": \"P29Y\"\n",
      "      }\n",
      "    },\n",
      "    \"sex\": \"MALE\"\n",
      "  },\n",
      "  \"phenotypicFeatures\": [\n",
      "    {\n",
      "      \"type\": {\n",
      "        \"id\": \"HP:0001270\",\n",
      "        \"label\": \"Motor delay\"\n",
      "      }\n",
      "    },\n",
      "    {\n",
      "      \"type\": {\n",
      "        \"id\": \"HP:0031936\",\n",
      "        \"label\": \"Delayed ability to walk\"\n",
      "      }\n",
      "    },\n",
      "    {\n",
      "      \"type\": {\n",
      "        \"id\": \"HP:0001264\",\n",
      "        \"label\": \"Spastic diplegia\"\n",
      "      }\n",
      "    },\n",
      "    {\n",
      "      \"type\": {\n",
      "        \"id\": \"HP:0002059\",\n",
      "        \"label\": \"Cerebral atrophy\"\n",
      "      }\n",
      "    },\n",
      "    {\n",
      "      \"type\": {\n",
      "        \"id\": \"HP:0002188\",\n",
      "        \"label\": \"Delayed CNS myelination\"\n",
      "      }\n",
      "    },\n",
      "    {\n",
      "      \"type\": {\n",
      "        \"id\": \"HP:0000219\",\n",
      "        \"label\": \"Thin upper lip vermilion\"\n",
      "      }\n",
      "    },\n",
      "    {\n",
      "      \"type\": {\n",
      "        \"id\": \"HP:0000311\",\n",
      "        \"label\": \"Round face\"\n",
      "      }\n",
      "    },\n",
      "    {\n",
      "      \"type\": {\n",
      "        \"id\": \"HP:0004322\",\n",
      "        \"label\": \"Short stature\"\n",
      "      }\n",
      "    },\n",
      "    {\n",
      "      \"type\": {\n",
      "        \"id\": \"HP:0001513\",\n",
      "        \"label\": \"Obesity\"\n",
      "      }\n",
      "    },\n",
      "    {\n",
      "      \"type\": {\n",
      "        \"id\": \"HP:0000826\",\n",
      "        \"label\": \"Precocious puberty\"\n",
      "      }\n",
      "    },\n",
      "    {\n",
      "      \"type\": {\n",
      "        \"id\": \"HP:0010864\",\n",
      "        \"label\": \"Intellectual disability, severe\"\n",
      "      }\n",
      "    },\n",
      "    {\n",
      "      \"type\": {\n",
      "        \"id\": \"HP:0000750\",\n",
      "        \"label\": \"Delayed speech and language development\"\n",
      "      }\n",
      "    },\n",
      "    {\n",
      "      \"type\": {\n",
      "        \"id\": \"HP:0002505\",\n",
      "        \"label\": \"Loss of ambulation\"\n",
      "      }\n",
      "    }\n",
      "  ],\n",
      "  \"interpretations\": [\n",
      "    {\n",
      "      \"id\": \"Individual 1\",\n",
      "      \"progressStatus\": \"SOLVED\",\n",
      "      \"diagnosis\": {\n",
      "        \"disease\": {\n",
      "          \"id\": \"OMIM:618443\",\n",
      "          \"label\": \"Neurodevelopmental disorder with or without variable brain abnormalities\"\n",
      "        },\n",
      "        \"genomicInterpretations\": [\n",
      "          {\n",
      "            \"subjectOrBiosampleId\": \"Individual 1\",\n",
      "            \"interpretationStatus\": \"CAUSATIVE\",\n",
      "            \"variantInterpretation\": {\n",
      "              \"variationDescriptor\": {\n",
      "                \"id\": \"var_iLuzWxvqVAnwkNmpilMQKXjQP\",\n",
      "                \"geneContext\": {\n",
      "                  \"valueId\": \"HGNC:6884\",\n",
      "                  \"symbol\": \"MAPK8IP3\"\n",
      "                },\n",
      "                \"expressions\": [\n",
      "                  {\n",
      "                    \"syntax\": \"hgvs.c\",\n",
      "                    \"value\": \"NM_015133.4:c.1732C>T\"\n",
      "                  },\n",
      "                  {\n",
      "                    \"syntax\": \"hgvs.g\",\n",
      "                    \"value\": \"NC_000016.10:g.1762843C>T\"\n",
      "                  }\n",
      "                ],\n",
      "                \"vcfRecord\": {\n",
      "                  \"genomeAssembly\": \"hg38\",\n",
      "                  \"chrom\": \"chr16\",\n",
      "                  \"pos\": \"1762843\",\n",
      "                  \"ref\": \"C\",\n",
      "                  \"alt\": \"T\"\n",
      "                },\n",
      "                \"moleculeContext\": \"genomic\",\n",
      "                \"allelicState\": {\n",
      "                  \"id\": \"GENO:0000135\",\n",
      "                  \"label\": \"heterozygous\"\n",
      "                }\n",
      "              }\n",
      "            }\n",
      "          }\n",
      "        ]\n",
      "      }\n",
      "    }\n",
      "  ],\n",
      "  \"diseases\": [\n",
      "    {\n",
      "      \"term\": {\n",
      "        \"id\": \"OMIM:618443\",\n",
      "        \"label\": \"Neurodevelopmental disorder with or without variable brain abnormalities\"\n",
      "      }\n",
      "    }\n",
      "  ],\n",
      "  \"metaData\": {\n",
      "    \"created\": \"2024-05-28T06:24:22.878716945Z\",\n",
      "    \"createdBy\": \"ORCID:0000-0002-0736-9199\",\n",
      "    \"resources\": [\n",
      "      {\n",
      "        \"id\": \"geno\",\n",
      "        \"name\": \"Genotype Ontology\",\n",
      "        \"url\": \"http://purl.obolibrary.org/obo/geno.owl\",\n",
      "        \"version\": \"2022-03-05\",\n",
      "        \"namespacePrefix\": \"GENO\",\n",
      "        \"iriPrefix\": \"http://purl.obolibrary.org/obo/GENO_\"\n",
      "      },\n",
      "      {\n",
      "        \"id\": \"hgnc\",\n",
      "        \"name\": \"HUGO Gene Nomenclature Committee\",\n",
      "        \"url\": \"https://www.genenames.org\",\n",
      "        \"version\": \"06/01/23\",\n",
      "        \"namespacePrefix\": \"HGNC\",\n",
      "        \"iriPrefix\": \"https://www.genenames.org/data/gene-symbol-report/#!/hgnc_id/\"\n",
      "      },\n",
      "      {\n",
      "        \"id\": \"omim\",\n",
      "        \"name\": \"An Online Catalog of Human Genes and Genetic Disorders\",\n",
      "        \"url\": \"https://www.omim.org\",\n",
      "        \"version\": \"January 4, 2023\",\n",
      "        \"namespacePrefix\": \"OMIM\",\n",
      "        \"iriPrefix\": \"https://www.omim.org/entry/\"\n",
      "      },\n",
      "      {\n",
      "        \"id\": \"so\",\n",
      "        \"name\": \"Sequence types and features ontology\",\n",
      "        \"url\": \"http://purl.obolibrary.org/obo/so.obo\",\n",
      "        \"version\": \"2021-11-22\",\n",
      "        \"namespacePrefix\": \"SO\",\n",
      "        \"iriPrefix\": \"http://purl.obolibrary.org/obo/SO_\"\n",
      "      },\n",
      "      {\n",
      "        \"id\": \"hp\",\n",
      "        \"name\": \"human phenotype ontology\",\n",
      "        \"url\": \"http://purl.obolibrary.org/obo/hp.owl\",\n",
      "        \"version\": \"2024-04-26\",\n",
      "        \"namespacePrefix\": \"HP\",\n",
      "        \"iriPrefix\": \"http://purl.obolibrary.org/obo/HP_\"\n",
      "      }\n",
      "    ],\n",
      "    \"phenopacketSchemaVersion\": \"2.0\",\n",
      "    \"externalReferences\": [\n",
      "      {\n",
      "        \"id\": \"PMID:30945334\",\n",
      "        \"reference\": \"https://pubmed.ncbi.nlm.nih.gov/30945334\",\n",
      "        \"description\": \"Recurrent de novo MAPK8IP3 variants cause neurological phenotypes\"\n",
      "      }\n",
      "    ]\n",
      "  }\n",
      "}\n"
     ]
    }
   ],
   "source": [
    "i1 = individuals[0]\n",
    "phenopacket1 = i1.to_ga4gh_phenopacket(metadata=metadata.to_ga4gh())\n",
    "json_string = MessageToJson(phenopacket1)\n",
    "print(json_string)"
   ]
  },
  {
   "cell_type": "markdown",
   "id": "b65fe6ad-48b9-408f-b4d4-e1cf1b496239",
   "metadata": {},
   "source": [
    "<h2>Validate</h2>\n",
    "<p>pyphetools offers a quick validation that phenopackets contain a mininum number of variants and HPO terms.\n",
    "We recommend additional validation with <a href=\"https://github.com/phenopackets/phenopacket-tools\">phenopacket-tools</a>.</p>"
   ]
  },
  {
   "cell_type": "code",
   "execution_count": 25,
   "id": "8e73ea60-3db9-4e9a-9e2b-421fbdb9b0c7",
   "metadata": {},
   "outputs": [
    {
     "data": {
      "text/html": [
       "<h2>Cohort validation</h2>\n",
       "<p>Errors found with 5 of 5 phenopackets.</p>\n",
       "<table style=\"border: 2px solid black; align: \"left\">\n",
       "<caption>Error counts</caption>\n",
       "<tr><th style=\"text-align: left;font-weight: bold;\">Level</th><th style=\"text-align: left;font-weight: bold;\">Error category</th><th style=\"text-align: left;font-weight: bold;\">Count</th></tr>\n",
       "<tr><td style=\"text-align: left;\">WARNING</td><td style=\"text-align: left;\">REDUNDANT</td><td style=\"text-align: left;\">6</td></tr>\n",
       "<tr><td style=\"text-align: left;\">INFORMATION</td><td style=\"text-align: left;\">NOT_MEASURED</td><td style=\"text-align: left;\">37</td></tr>\n",
       "</table>\n",
       "<p>A total of 43 issues were fixed and no individual was removed from the cohort.</p>"
      ],
      "text/plain": [
       "<IPython.core.display.HTML object>"
      ]
     },
     "metadata": {},
     "output_type": "display_data"
    }
   ],
   "source": [
    "\n",
    "cvalidator = CohortValidator(cohort=individuals, ontology=hp_ontology, min_hpo=1,\n",
    "                                allelic_requirement=AllelicRequirement.MONO_ALLELIC)\n",
    "qc = QcVisualizer(cohort_validator=cvalidator)\n",
    "display(HTML(qc.to_summary_html()))"
   ]
  },
  {
   "cell_type": "markdown",
   "id": "563251d2-4887-48e5-89af-7a4812909e58",
   "metadata": {},
   "source": [
    "<h2>Visualization</h2>\n",
    "<p>pyphetools can output summary tables of the main data contained in the cohort.</p>"
   ]
  },
  {
   "cell_type": "code",
   "execution_count": 26,
   "id": "71427f90-9bc6-4441-9aff-95c181dbcec2",
   "metadata": {},
   "outputs": [
    {
     "data": {
      "text/html": [
       "<table style=\"border: 2px solid black; align: \"left\">\n",
       "<caption>5 phenopackets - PMID:30945334 (n=5)</caption>\n",
       "<tr><th style=\"text-align: left;font-weight: bold;\">Individual</th><th style=\"text-align: left;font-weight: bold;\">Disease</th><th style=\"text-align: left;font-weight: bold;\">Genotype</th><th style=\"text-align: left;font-weight: bold;\">Phenotypic features</th></tr>\n",
       "<tr><td style=\"text-align: left;\">Individual 1 (MALE; P29Y)</td><td style=\"text-align: left;\">Neurodevelopmental disorder with or without variable brain abnormalities (OMIM:618443)</td><td style=\"text-align: left;\">NM_015133.4:c.1732C>T (heterozygous)</td><td style=\"text-align: left;\">Delayed ability to walk (HP:0031936); Spastic diplegia (HP:0001264); Cerebral atrophy (HP:0002059); Delayed CNS myelination (HP:0002188); Thin upper lip vermilion (HP:0000219); Round face (HP:0000311); Short stature (HP:0004322); Obesity (HP:0001513); Precocious puberty (HP:0000826); Intellectual disability, severe (HP:0010864); Delayed speech and language development (HP:0000750); Loss of ambulation (HP:0002505)</td></tr>\n",
       "<tr><td style=\"text-align: left;\">Individual 2 (FEMALE; P27Y)</td><td style=\"text-align: left;\">Neurodevelopmental disorder with or without variable brain abnormalities (OMIM:618443)</td><td style=\"text-align: left;\">NM_015133.4:c.1732C>T (heterozygous)</td><td style=\"text-align: left;\">Delayed ability to roll over (HP:0032989); Delayed ability to walk (HP:0031936); Spastic diplegia (HP:0001264); Cerebral atrophy (HP:0002059); Delayed CNS myelination (HP:0002188); Thin upper lip vermilion (HP:0000219); Round face (HP:0000311); Short stature (HP:0004322); Obesity (HP:0001513); Precocious puberty (HP:0000826); Intellectual disability, severe (HP:0010864); Delayed speech and language development (HP:0000750); Loss of ambulation (HP:0002505)</td></tr>\n",
       "<tr><td style=\"text-align: left;\">Individual 3 (MALE; P16Y)</td><td style=\"text-align: left;\">Neurodevelopmental disorder with or without variable brain abnormalities (OMIM:618443)</td><td style=\"text-align: left;\">NM_015133.4:c.1732C>T (heterozygous)</td><td style=\"text-align: left;\">Delayed ability to sit (HP:0025336); Delayed ability to walk (HP:0031936); Spastic diplegia (HP:0001264); Prominent nasal bridge (HP:0000426); Thin upper lip vermilion (HP:0000219); Short stature (HP:0004322); Obesity (HP:0001513); Intellectual disability, profound (HP:0002187); Delayed speech and language development (HP:0000750); Loss of ambulation (HP:0002505)</td></tr>\n",
       "<tr><td style=\"text-align: left;\">Individual 4 (MALE; P5Y)</td><td style=\"text-align: left;\">Neurodevelopmental disorder with or without variable brain abnormalities (OMIM:618443)</td><td style=\"text-align: left;\">NM_015133.4:c.3436C>T (heterozygous)</td><td style=\"text-align: left;\">Persistent head lag (HP:0032988); Delayed ability to roll over (HP:0032989); Delayed ability to sit (HP:0025336); Delayed ability to walk (HP:0031936); Autistic behavior (HP:0000729); Infantile muscular hypotonia (HP:0008947); Cerebral atrophy (HP:0002059); Prominent nasal bridge (HP:0000426); Thin upper lip vermilion (HP:0000219); Round face (HP:0000311); Short stature (HP:0004322); Intellectual disability, severe (HP:0010864); Absent speech (HP:0001344)</td></tr>\n",
       "<tr><td style=\"text-align: left;\">Individual 5 (FEMALE; P5Y)</td><td style=\"text-align: left;\">Neurodevelopmental disorder with or without variable brain abnormalities (OMIM:618443)</td><td style=\"text-align: left;\">NM_015133.4:c.3436C>T (heterozygous)</td><td style=\"text-align: left;\">Persistent head lag (HP:0032988); Delayed ability to sit (HP:0025336); Delayed ability to walk (HP:0031936); Spastic diplegia (HP:0001264); Autistic behavior (HP:0000729); Infantile muscular hypotonia (HP:0008947); Cerebral atrophy (HP:0002059); Delayed CNS myelination (HP:0002188); Prominent nasal bridge (HP:0000426); Thin upper lip vermilion (HP:0000219); Round face (HP:0000311); Intellectual disability, severe (HP:0010864); Absent speech (HP:0001344); Thick eyebrow (HP:0000574); Upslanted palpebral fissure (HP:0000582); Anteverted nares (HP:0000463); Short philtrum (HP:0000322)</td></tr>\n",
       "</table>"
      ],
      "text/plain": [
       "<IPython.core.display.HTML object>"
      ]
     },
     "metadata": {},
     "output_type": "display_data"
    }
   ],
   "source": [
    "individuals = cvalidator.get_error_free_individual_list()\n",
    "table = IndividualTable(individuals)\n",
    "display(HTML(table.to_html()))"
   ]
  },
  {
   "cell_type": "markdown",
   "id": "a0a967ac-454e-474d-afc6-10e62d3e43e8",
   "metadata": {},
   "source": [
    "<h2>Output</h2>\n",
    "<p>Finally, we output the five phenopackets to the \"phenopackets\" folder.</p>"
   ]
  },
  {
   "cell_type": "code",
   "execution_count": 27,
   "id": "31305025",
   "metadata": {},
   "outputs": [
    {
     "name": "stdout",
     "output_type": "stream",
     "text": [
      "We output 5 GA4GH phenopackets to the directory phenopackets\n"
     ]
    }
   ],
   "source": [
    "Individual.output_individuals_as_phenopackets(individual_list=individuals, \n",
    "                                              metadata=metadata, \n",
    "                                              outdir=\"phenopackets\")"
   ]
  },
  {
   "cell_type": "code",
   "execution_count": null,
   "id": "95117723-2801-4a3c-bfd7-53ba59e4c983",
   "metadata": {},
   "outputs": [],
   "source": []
  }
 ],
 "metadata": {
  "kernelspec": {
   "display_name": "ppt_venv",
   "language": "python",
   "name": "python3"
  },
  "language_info": {
   "codemirror_mode": {
    "name": "ipython",
    "version": 3
   },
   "file_extension": ".py",
   "mimetype": "text/x-python",
   "name": "python",
   "nbconvert_exporter": "python",
   "pygments_lexer": "ipython3",
   "version": "3.9.6"
  }
 },
 "nbformat": 4,
 "nbformat_minor": 5
}
